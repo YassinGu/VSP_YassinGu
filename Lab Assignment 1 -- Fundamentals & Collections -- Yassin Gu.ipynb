{
 "cells": [
  {
   "cell_type": "markdown",
   "id": "fea96cfa",
   "metadata": {},
   "source": [
    "# Lab Assignment 1 -- Fundamentals & Collections\n",
    "In this lab, you will complete a series of exercises related to the lecture material on coding fundamentals and collections. \n",
    "\n",
    "Since this is the first lab that involves coding, we will begin with an exercise related to Jupyter notebook functionality."
   ]
  },
  {
   "cell_type": "markdown",
   "id": "5b0e6098",
   "metadata": {},
   "source": [
    "## Exercise 1 -- Jupyter Markdown Basics\n",
    "Jupyter notebooks allows cells to be interpreted as either code or Markdown. Markdown is a lightweight formatting language. In fact, what you're reading right now is written in Markdown. The syntax is very simple and a reference for common commands can be found [here](https://www.markdownguide.org/cheat-sheet/). Use this reference guide to complete the following steps:\n",
    "\n",
    "1. Create a cell below this one by using the insert drop down menu or by clicking on the left of this box (so the side bar turns blue) and tapping the <kbd>b</kbd> key.\n",
    "2. Make the cell a Markdown cell by clicking on it and using the drop down menu above.\n",
    "3. Using the reference guide, find out how to create the **smallest** heading  and use it give the cell you create a header of \"Solution to Exercise 1\" without the quotes.\n",
    "4. Using the reference guide, figure out how to make ordered and unordered lists. Using an unordered list, list three of the things you hope to learn from this class.\n",
    "5. Sometimes, we want to reference specific code or code objects in the text of Markdown. Markdown allows us to format such reference so that it appears in a gray box (e.g. `x=3`). Using the reference guide, figure out how to format code and format  x = 3, so it has a gray box around it in the cell you created. "
   ]
  },
  {
   "cell_type": "markdown",
   "id": "7835167d",
   "metadata": {},
   "source": [
    "## Exercise 2 -- Basic Variable Assignment\n",
    "Complete the following steps in the cells below.\n",
    "1. Generate a variable called `x_flt` and set it equal to 3.0. Print its type.\n",
    "2. Generate a variable called `x_int` and set it equal to 3. Print its type.\n",
    "3. Generate a variable called  `x_str` and set it equal to \"3\". Print its type.\n",
    "4. Which of these two variables can you add together with the `+` operator? Why? Answer in the Markdown cell below. "
   ]
  },
  {
   "cell_type": "code",
   "execution_count": 1,
   "id": "8c80cd8e",
   "metadata": {},
   "outputs": [
    {
     "name": "stdout",
     "output_type": "stream",
     "text": [
      "<class 'float'>\n",
      "<class 'int'>\n",
      "<class 'str'>\n"
     ]
    }
   ],
   "source": [
    "# Exercise 2 Code\n",
    "x_flt = 3.0\n",
    "print(type(x_flt))\n",
    "\n",
    "x_int = 3\n",
    "print(type(x_int))\n",
    "\n",
    "x_str = \"3\"\n",
    "print(type(x_str))\n"
   ]
  },
  {
   "cell_type": "markdown",
   "id": "70b8adf0",
   "metadata": {},
   "source": [
    "### Response to 2.4\n",
    "x_flt and x_int can be added together because x_flt is float type and x_int is integer. x_str cannot be added because it is a string."
   ]
  },
  {
   "cell_type": "markdown",
   "id": "9db99652",
   "metadata": {},
   "source": [
    "## Exercise 3 -- Variable Reassignment\n",
    "Complete the following steps in the cells below.\n",
    "1. Assign `x` equal to `\"good\"`\n",
    "2. Assign `y` equal to `x`\n",
    "3. Reassign `x` to `\"bad\"`\n",
    "4. Use `print` to print `y`\n",
    "5. Does the print statement print \"good\" or a \"bad\"? Did changing `x` to \"bad\" affect anything? Why or why not? Answer in the Markdown cell below."
   ]
  },
  {
   "cell_type": "code",
   "execution_count": 2,
   "id": "9c154552",
   "metadata": {
    "scrolled": true
   },
   "outputs": [
    {
     "name": "stdout",
     "output_type": "stream",
     "text": [
      "good\n"
     ]
    }
   ],
   "source": [
    "# Exercise 3 Code\n",
    "x = \"good\"\n",
    "y = x\n",
    "x = \"bad\"\n",
    "print(y)\n"
   ]
  },
  {
   "cell_type": "markdown",
   "id": "b24737e5",
   "metadata": {},
   "source": [
    "### Response to 3.5\n",
    "It prints a \"good\". Changing x to \"bad\" only changes x value instead of y value. Because it is passing by value instead of passing by reference."
   ]
  },
  {
   "cell_type": "markdown",
   "id": "4700d845",
   "metadata": {},
   "source": [
    "## Exercise 4 -- Basic Arithmetic\n",
    "Generate the following variables with the corresponding value in the cell below:\n",
    "1. `x` equal to 20\n",
    "2. `y` equal to 10\n",
    "3. `z1` equal to the sum of `x` and `y`\n",
    "4. `z2` equal to `x` minus `y`\n",
    "5. `z3` equal to `x` times `y` \n",
    "6. `z4` equal to `x` divided by `y` \n",
    "\n",
    "Answer the following question in the Markdown Cell Below\n",
    "\n",
    "7. Use `type()` to deterimine which of these variables is a floating point number? Why is this the case?"
   ]
  },
  {
   "cell_type": "code",
   "execution_count": 4,
   "id": "564b49ec",
   "metadata": {},
   "outputs": [
    {
     "name": "stdout",
     "output_type": "stream",
     "text": [
      "<class 'int'>\n",
      "<class 'int'>\n",
      "<class 'int'>\n",
      "<class 'float'>\n"
     ]
    }
   ],
   "source": [
    "# Exercise 4 Code\n",
    "x = 20\n",
    "y = 10\n",
    "z1 = x + y\n",
    "z2 = x - y\n",
    "z3 = x * y\n",
    "z4 = x / y\n",
    "print(type(z1))\n",
    "print(type(z2))\n",
    "print(type(z3))\n",
    "print(type(z4))"
   ]
  },
  {
   "cell_type": "markdown",
   "id": "ac2063f9",
   "metadata": {},
   "source": [
    "### Response to 4.7\n",
    "type(z1) -- int\n",
    "<br>\n",
    "type(z2) -- int\n",
    "<br>\n",
    "type(z3) -- int\n",
    "<br>\n",
    "type(z4) -- float\n",
    "<br>\n",
    "because / is the operator for float, it implicitly casts the x and y from int to float, so the final result is float."
   ]
  },
  {
   "cell_type": "markdown",
   "id": "84774c39",
   "metadata": {},
   "source": [
    "## Exercise 5 -- String Formatting\n",
    "Complete the following steps in the cell below:\n",
    "1. Define a list called `cities` that contains the names of three cities you would like to visit. \n",
    "2. Define a corresponding list called `countries` where an entry is the country of each of those three cities.\n",
    "3. Using these lists and f strings, print a sentence that says what country a city is in for each city in your list\n",
    "4. Now do the same thing again but use the `.format()` method instead of f strings."
   ]
  },
  {
   "cell_type": "code",
   "execution_count": 551,
   "id": "84231ab0",
   "metadata": {},
   "outputs": [],
   "source": [
    "# Exercise 5 Code\n",
    "cities = [\"Paris\",\"Tokyo\",\"Wuxi\"]\n",
    "countries = [\"France\",\"Japan\",\"China\"]"
   ]
  },
  {
   "cell_type": "markdown",
   "id": "074af1bd",
   "metadata": {},
   "source": [
    "## Exercise 6 -- String Concatenation\n",
    "Complete the following steps in the cell below:\n",
    "1. Assign `b` to be equal to \"b\"\n",
    "2. Assign `a` to be equal to \"a\"\n",
    "3. Assign `n` to be equal to \"n\"\n",
    "4. Using these variables, `+`, and `print`, print the the word \"banana\""
   ]
  },
  {
   "cell_type": "code",
   "execution_count": 5,
   "id": "47ba30bd",
   "metadata": {},
   "outputs": [
    {
     "name": "stdout",
     "output_type": "stream",
     "text": [
      "banana\n"
     ]
    }
   ],
   "source": [
    "# Exercise 6 Code\n",
    "b = \"b\"\n",
    "a = \"a\"\n",
    "n = \"n\"\n",
    "print(b+a+n+a+n+a)"
   ]
  },
  {
   "cell_type": "markdown",
   "id": "53634e2d",
   "metadata": {},
   "source": [
    "## Exercise 7 -- Boolean Variable Keywords\n",
    "Assign `a`, `b`,`c`, and `d`, so that every print statement below is true. \n",
    "\n",
    "\n",
    "Afterwards, answer the following quesiton in the Markdown cell below:\n",
    "\n",
    "Is the configuration of `a`, `b`,`c`, and `d` that makes both statements true unique? Why or why not? If it isn't unique, add another print statement to the list to rule out other configurations?"
   ]
  },
  {
   "cell_type": "code",
   "execution_count": 6,
   "id": "927dda2a",
   "metadata": {},
   "outputs": [],
   "source": [
    "# Exercise 7 Code\n",
    "a = 0\n",
    "b = 0\n",
    "c = 0\n",
    "d = 0"
   ]
  },
  {
   "cell_type": "code",
   "execution_count": 7,
   "id": "c30c40c2",
   "metadata": {},
   "outputs": [
    {
     "name": "stdout",
     "output_type": "stream",
     "text": [
      "True\n",
      "True\n"
     ]
    }
   ],
   "source": [
    "# Uncomment the lines below when you have defined the variables to check your results \n",
    "print(((a and b) or (c and d)) == False)\n",
    "print(((a or c) and (b or d)) == False)"
   ]
  },
  {
   "cell_type": "code",
   "execution_count": null,
   "id": "06241a31",
   "metadata": {},
   "outputs": [],
   "source": []
  },
  {
   "cell_type": "markdown",
   "id": "a6b1522e",
   "metadata": {},
   "source": [
    "### Response to 7"
   ]
  },
  {
   "cell_type": "markdown",
   "id": "2b2f4fcf",
   "metadata": {},
   "source": [
    "## Exercise 8 -- Comparison Operators\n",
    "Using `num_list` and list comprehensions, create three lists that correspond to the elements in num_list:\n",
    "1. `equal_list` whose elements should be true if the corresponding element in `num_list` is equal to 0 and false otherwise.\n",
    "2. `greater_list` whose elements should be true if the corresponding element in `num_list` is strictly greater than 0 and false otherwise.\n",
    "3. `lesser_list` whose elements should be true if the corresponding element in `num_list` is strictly less than 0 and false otherwise.\n",
    "4. Finally, using the three lists you generated, list comprehensions, and `zip()`, create `true_list` a list of length 7 where every element is true. \n",
    "\n",
    "**Hints for 4:** \n",
    "- `zip` can be used on more than two lists\n",
    "- use `or` within the list comprehension"
   ]
  },
  {
   "cell_type": "code",
   "execution_count": 31,
   "id": "028b26b4",
   "metadata": {},
   "outputs": [],
   "source": [
    "# Exercise 8 Code\n",
    "# Don't edit the line below\n",
    "num_list = [-5, -3, -1, 0, 1, 3, 5]\n",
    "\n",
    "# your code below here\n",
    "\n",
    "\n"
   ]
  },
  {
   "cell_type": "markdown",
   "id": "55708251",
   "metadata": {},
   "source": [
    "## Exercise 9 -- Lists\n",
    "Complete the following steps in the cells below:\n",
    "1. Add two different elements from `num_list` together so that the sum is 0. Print the result.\n",
    "2. Using `.append()`, add a 7 to the end of `num_list`\n",
    "3. Using `.insert()`, add a -7 to the start of `num_list`\n",
    "3. Change each element of `num_list` individually so that it it is equal to the list `[-4, -3, -2, -1, 0, 1, 2, 3, 4]`\n",
    "4. Use the list method `.reverse()` on `num_list` then print `num_list`. What does `.reverse()` do?  Did `.reverse()` change `num_list`?  Answer in the Markdown Cell.\n"
   ]
  },
  {
   "cell_type": "code",
   "execution_count": 23,
   "id": "346f8fcc",
   "metadata": {},
   "outputs": [
    {
     "name": "stdout",
     "output_type": "stream",
     "text": [
      "0\n",
      "[-4, -3, -2, -1, 0, 1, 2, 3, 4]\n",
      "[4, 3, 2, 1, 0, -1, -2, -3, -4]\n"
     ]
    }
   ],
   "source": [
    "# Exercise 9 Code\n",
    "print(num_list[0]+num_list[-1])\n",
    "num_list.append(7)\n",
    "num_list.insert(0,-7)\n",
    "num_list[0]=-4\n",
    "num_list[1]=-3\n",
    "num_list[-2]=3\n",
    "num_list[2]=-2\n",
    "num_list[-3]=2\n",
    "num_list[-1]=4\n",
    "print(num_list)\n",
    "num_list.reverse()\n",
    "print(num_list)"
   ]
  },
  {
   "cell_type": "markdown",
   "id": "c4c0454d",
   "metadata": {},
   "source": [
    "### Response to Exercise 9.5\n",
    "It reverses the list."
   ]
  },
  {
   "cell_type": "markdown",
   "id": "165fbe39",
   "metadata": {},
   "source": [
    "## Exercise 10 -- Dictonaries\n",
    "First, define a dictonary called `my_dict`. It should contain four keys:\n",
    "- \"name\"\n",
    "- \"major\"\n",
    "- \"favorite artist\"\n",
    "- \"favorite food\"\n",
    "\n",
    "Fill out the values to match your name, major, etc.\n",
    "\n",
    "Using `my_dict` and string formatting, print a sentence in the cell below that says who you are, what your major is, your favorite artist, and your favorite food."
   ]
  },
  {
   "cell_type": "code",
   "execution_count": 29,
   "id": "26d848c5",
   "metadata": {},
   "outputs": [
    {
     "name": "stdout",
     "output_type": "stream",
     "text": [
      "my name is Yassin Gu.my major is Landscape Architecture.my favorite artist is Van Gogh.my favorite food is rice\n"
     ]
    }
   ],
   "source": [
    "# Exercise 10 Code\n",
    "my_dict = {\"name\":\"Yassin Gu\",\"major\":\"Landscape Architecture\",\"favorite artist\":\"Van Gogh\",\"favorite food\":\"rice\"}\n",
    "print(\"my name is \"+my_dict[\"name\"]+\".my major is \"+my_dict[\"major\"]+ \".my favorite artist is \"+my_dict[\"favorite artist\"]+\".my favorite food is \"+my_dict[\"favorite food\"])"
   ]
  },
  {
   "cell_type": "markdown",
   "id": "072212a3",
   "metadata": {},
   "source": [
    "## Exercise 11 -- Type Conversion\n",
    "We can use functions like `int()`, `float()`, and `str()` to convert from one type into another. Use them to complete the following tasks:\n",
    "1. Define a variable called `revenue` that is equal to price times quanitity. You can only use the strings that are already defined, the conversion functions above, and the `*` operator. \n",
    "2. Use `str()` to convert `revenue` into a string with a dollar sign in fron. Call this new variable `revenue_string` and print it. \n",
    "\n",
    "\n",
    "**Hint:** How can you remove the dollar sign before conversion?\n"
   ]
  },
  {
   "cell_type": "code",
   "execution_count": 33,
   "id": "8bb06333",
   "metadata": {},
   "outputs": [
    {
     "name": "stdout",
     "output_type": "stream",
     "text": [
      "75.0\n"
     ]
    }
   ],
   "source": [
    "# Exercise 12 Code\n",
    "price_string  = \"$7.50\" # don't edit\n",
    "quantity_string = \"10\" # don't edit\n",
    "\n",
    "# your code here\n",
    "revenue = float(price_string.replace(\"$\",\"\"))*int(quantity_string)\n",
    "print(revenue)\n",
    "revenue_string = \"$\"+str(revenue)"
   ]
  },
  {
   "cell_type": "markdown",
   "id": "4514ba60",
   "metadata": {},
   "source": [
    "## Exercise 12 -- Modules and Very Basic Plotting\n",
    "Complete the following steps in the cells below:\n",
    "1. Import the `math` module and give it an alias of `mt`.\n",
    "2. Import the `matplotlib.pyplot` module and give it an alias of `plt`.\n",
    "3. Create a variable named `num_range` and set it equal to a range of numbers from 0 to 1000 (including 1000).\n",
    "4. Using `num_range` and a list comprehension, create a list called `sine_list` that is equal to `sin((pi/100) * x)` for every `x` in the range `num_range`. (**Hint:** sin and pi are objects from the math library.)\n",
    "5. Finally, using `plt`, `num_range`, and `sine_list`, generate a line plot. "
   ]
  },
  {
   "cell_type": "code",
   "execution_count": 559,
   "id": "c9cda505",
   "metadata": {},
   "outputs": [],
   "source": [
    "# Exercise 12 Code"
   ]
  },
  {
   "cell_type": "code",
   "execution_count": null,
   "id": "fb9107c1",
   "metadata": {},
   "outputs": [],
   "source": []
  }
 ],
 "metadata": {
  "kernelspec": {
   "display_name": "Python 3 (ipykernel)",
   "language": "python",
   "name": "python3"
  },
  "language_info": {
   "codemirror_mode": {
    "name": "ipython",
    "version": 3
   },
   "file_extension": ".py",
   "mimetype": "text/x-python",
   "name": "python",
   "nbconvert_exporter": "python",
   "pygments_lexer": "ipython3",
   "version": "3.11.4"
  }
 },
 "nbformat": 4,
 "nbformat_minor": 5
}
